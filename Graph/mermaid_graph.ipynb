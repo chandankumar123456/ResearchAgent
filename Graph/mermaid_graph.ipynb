{
 "cells": [
  {
   "cell_type": "code",
   "execution_count": 1,
   "id": "a2e47e2c",
   "metadata": {},
   "outputs": [],
   "source": [
    "from mermaid import Mermaid"
   ]
  },
  {
   "cell_type": "code",
   "execution_count": 11,
   "id": "cdaad6a1",
   "metadata": {},
   "outputs": [
    {
     "data": {
      "text/html": [
       "\n",
       "        <div class=\"mermaid-daed6324-58b3-41cf-8370-f847d42c5217\"></div>\n",
       "        <script type=\"module\">\n",
       "            import mermaid from 'https://cdn.jsdelivr.net/npm/mermaid@10.1.0/+esm'\n",
       "            const graphDefinition = '---\\nconfig:\\n  flowchart:\\n    curve: linear\\n---\\ngraph TD;\\n\t__start__([<p>__start__</p>]):::first\\n\tliterature_search(literature_search)\\n\tsummarization(summarization)\\n\thypothesis_generation(hypothesis_generation)\\n\tcompile_results(compile_results)\\n\thandle_errors(handle_errors)\\n\t__end__([<p>__end__</p>]):::last\\n\t__start__ --> literature_search;\\n\tcompile_results --> __end__;\\n\thandle_errors --> __end__;\\n\thypothesis_generation --> compile_results;\\n\tliterature_search --> summarization;\\n\tsummarization --> hypothesis_generation;\\n\tliterature_search -. continue .-> summarization;\\n\tliterature_search -.-> handle_errors;\\n\tsummarization -. continue .-> hypothesis_generation;\\n\tsummarization -.-> handle_errors;\\n\thypothesis_generation -. continue .-> compile_results;\\n\thypothesis_generation -.-> handle_errors;\\n\tclassDef default fill:#f2f0ff,line-height:1.2\\n\tclassDef first fill-opacity:0\\n\tclassDef last fill:#bfb6fc\\n';\n",
       "            const element = document.querySelector('.mermaid-daed6324-58b3-41cf-8370-f847d42c5217');\n",
       "            const { svg } = await mermaid.render('graphDiv-daed6324-58b3-41cf-8370-f847d42c5217', graphDefinition);\n",
       "            element.innerHTML = svg;\n",
       "        </script>\n",
       "        "
      ],
      "text/plain": [
       "<mermaid.mermaid.Mermaid at 0x19c9a92ef30>"
      ]
     },
     "execution_count": 11,
     "metadata": {},
     "output_type": "execute_result"
    }
   ],
   "source": [
    "Mermaid(\"\"\"---\n",
    "config:\n",
    "  flowchart:\n",
    "    curve: linear\n",
    "---\n",
    "graph TD;\n",
    "\t__start__([<p>__start__</p>]):::first\n",
    "\tliterature_search(literature_search)\n",
    "\tsummarization(summarization)\n",
    "\thypothesis_generation(hypothesis_generation)\n",
    "\tcompile_results(compile_results)\n",
    "\thandle_errors(handle_errors)\n",
    "\t__end__([<p>__end__</p>]):::last\n",
    "\t__start__ --> literature_search;\n",
    "\tcompile_results --> __end__;\n",
    "\thandle_errors --> __end__;\n",
    "\thypothesis_generation --> compile_results;\n",
    "\tliterature_search --> summarization;\n",
    "\tsummarization --> hypothesis_generation;\n",
    "\tliterature_search -. continue .-> summarization;\n",
    "\tliterature_search -.-> handle_errors;\n",
    "\tsummarization -. continue .-> hypothesis_generation;\n",
    "\tsummarization -.-> handle_errors;\n",
    "\thypothesis_generation -. continue .-> compile_results;\n",
    "\thypothesis_generation -.-> handle_errors;\n",
    "\tclassDef default fill:#f2f0ff,line-height:1.2\n",
    "\tclassDef first fill-opacity:0\n",
    "\tclassDef last fill:#bfb6fc\n",
    "\"\"\")"
   ]
  },
  {
   "cell_type": "code",
   "execution_count": 13,
   "id": "6b4a1461",
   "metadata": {},
   "outputs": [],
   "source": [
    "from mermaid import Mermaid\n",
    "import os\n",
    "\n",
    "mermaid_code = \"\"\"---\n",
    "config:\n",
    "  flowchart:\n",
    "    curve: linear\n",
    "---\n",
    "graph TD\n",
    "    __start__([<p>__start__</p>]):::first\n",
    "    literature_search(literature search)\n",
    "    summarization(summarization)\n",
    "    hypothesis_generation(hypothesis generation)\n",
    "    compile_results(compile results)\n",
    "    handle_errors(handle errors)\n",
    "    __end__([<p>__end__</p>]):::last\n",
    "    \n",
    "    __start__ --> literature_search;\n",
    "    literature_search --> summarization;\n",
    "    summarization --> hypothesis_generation;\n",
    "    hypothesis_generation --> compile_results;\n",
    "    compile_results --> __end__;\n",
    "    \n",
    "    literature_search -. continue .-> summarization;\n",
    "    summarization -. continue .-> hypothesis_generation;\n",
    "    hypothesis_generation -. continue .-> compile_results;\n",
    "    \n",
    "    literature_search -.-> handle_errors;\n",
    "    summarization -.-> handle_errors;\n",
    "    hypothesis_generation -.-> handle_errors;\n",
    "    handle_errors --> __end__;\n",
    "    \n",
    "    classDef default fill:#f2f0ff,line-height:1.2\n",
    "    classDef first fill-opacity:0\n",
    "    classDef last fill:#bfb6fc\"\"\"\n",
    "\n",
    "# Create Mermaid diagram\n",
    "diagram = Mermaid(mermaid_code)\n"
   ]
  },
  {
   "cell_type": "code",
   "execution_count": 14,
   "id": "44c75ba0",
   "metadata": {},
   "outputs": [],
   "source": [
    "with open(\"diagram.mmd\", \"w\") as f:\n",
    "    f.write(mermaid_code)"
   ]
  },
  {
   "cell_type": "code",
   "execution_count": null,
   "id": "c8085e86",
   "metadata": {},
   "outputs": [],
   "source": []
  }
 ],
 "metadata": {
  "kernelspec": {
   "display_name": "base",
   "language": "python",
   "name": "python3"
  },
  "language_info": {
   "codemirror_mode": {
    "name": "ipython",
    "version": 3
   },
   "file_extension": ".py",
   "mimetype": "text/x-python",
   "name": "python",
   "nbconvert_exporter": "python",
   "pygments_lexer": "ipython3",
   "version": "3.12.3"
  }
 },
 "nbformat": 4,
 "nbformat_minor": 5
}
